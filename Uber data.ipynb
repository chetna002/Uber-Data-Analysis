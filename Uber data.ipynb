{
 "cells": [
  {
   "cell_type": "markdown",
   "id": "acac8f41",
   "metadata": {},
   "source": [
    "# Import Libraries"
   ]
  },
  {
   "cell_type": "code",
   "execution_count": 1,
   "id": "676d5096",
   "metadata": {},
   "outputs": [],
   "source": [
    "import numpy as np\n",
    "import pandas as pd\n",
    "import matplotlib.pyplot as plt\n",
    "import seaborn as sns\n",
    "from sklearn import datasets\n",
    "%matplotlib inline\n",
    "import warnings\n",
    "warnings.simplefilter(\"ignore\")\n",
    "from datetime import datetime"
   ]
  },
  {
   "cell_type": "markdown",
   "id": "03b1cbd2",
   "metadata": {},
   "source": [
    "# Load Dataset"
   ]
  },
  {
   "cell_type": "code",
   "execution_count": 2,
   "id": "b0d10504",
   "metadata": {},
   "outputs": [],
   "source": [
    "df=pd.read_csv(r\"C:\\Users\\uzuma\\Downloads\\Uber Request Data.csv\")"
   ]
  },
  {
   "cell_type": "code",
   "execution_count": 3,
   "id": "b42ff78f",
   "metadata": {
    "scrolled": true
   },
   "outputs": [
    {
     "data": {
      "text/html": [
       "<div>\n",
       "<style scoped>\n",
       "    .dataframe tbody tr th:only-of-type {\n",
       "        vertical-align: middle;\n",
       "    }\n",
       "\n",
       "    .dataframe tbody tr th {\n",
       "        vertical-align: top;\n",
       "    }\n",
       "\n",
       "    .dataframe thead th {\n",
       "        text-align: right;\n",
       "    }\n",
       "</style>\n",
       "<table border=\"1\" class=\"dataframe\">\n",
       "  <thead>\n",
       "    <tr style=\"text-align: right;\">\n",
       "      <th></th>\n",
       "      <th>Request id</th>\n",
       "      <th>Pickup point</th>\n",
       "      <th>Driver id</th>\n",
       "      <th>Status</th>\n",
       "      <th>Request timestamp</th>\n",
       "      <th>Drop timestamp</th>\n",
       "    </tr>\n",
       "  </thead>\n",
       "  <tbody>\n",
       "    <tr>\n",
       "      <th>0</th>\n",
       "      <td>619</td>\n",
       "      <td>Airport</td>\n",
       "      <td>1.0</td>\n",
       "      <td>Trip Completed</td>\n",
       "      <td>11/7/2016 11:51</td>\n",
       "      <td>11/7/2016 13:00</td>\n",
       "    </tr>\n",
       "    <tr>\n",
       "      <th>1</th>\n",
       "      <td>867</td>\n",
       "      <td>Airport</td>\n",
       "      <td>1.0</td>\n",
       "      <td>Trip Completed</td>\n",
       "      <td>11/7/2016 17:57</td>\n",
       "      <td>11/7/2016 18:47</td>\n",
       "    </tr>\n",
       "    <tr>\n",
       "      <th>2</th>\n",
       "      <td>1807</td>\n",
       "      <td>City</td>\n",
       "      <td>1.0</td>\n",
       "      <td>Trip Completed</td>\n",
       "      <td>12/7/2016 9:17</td>\n",
       "      <td>12/7/2016 9:58</td>\n",
       "    </tr>\n",
       "    <tr>\n",
       "      <th>3</th>\n",
       "      <td>2532</td>\n",
       "      <td>Airport</td>\n",
       "      <td>1.0</td>\n",
       "      <td>Trip Completed</td>\n",
       "      <td>12/7/2016 21:08</td>\n",
       "      <td>12/7/2016 22:03</td>\n",
       "    </tr>\n",
       "    <tr>\n",
       "      <th>4</th>\n",
       "      <td>3112</td>\n",
       "      <td>City</td>\n",
       "      <td>1.0</td>\n",
       "      <td>Trip Completed</td>\n",
       "      <td>13-07-2016 08:33:16</td>\n",
       "      <td>13-07-2016 09:25:47</td>\n",
       "    </tr>\n",
       "    <tr>\n",
       "      <th>...</th>\n",
       "      <td>...</td>\n",
       "      <td>...</td>\n",
       "      <td>...</td>\n",
       "      <td>...</td>\n",
       "      <td>...</td>\n",
       "      <td>...</td>\n",
       "    </tr>\n",
       "    <tr>\n",
       "      <th>6740</th>\n",
       "      <td>6745</td>\n",
       "      <td>City</td>\n",
       "      <td>NaN</td>\n",
       "      <td>No Cars Available</td>\n",
       "      <td>15-07-2016 23:49:03</td>\n",
       "      <td>NaN</td>\n",
       "    </tr>\n",
       "    <tr>\n",
       "      <th>6741</th>\n",
       "      <td>6752</td>\n",
       "      <td>Airport</td>\n",
       "      <td>NaN</td>\n",
       "      <td>No Cars Available</td>\n",
       "      <td>15-07-2016 23:50:05</td>\n",
       "      <td>NaN</td>\n",
       "    </tr>\n",
       "    <tr>\n",
       "      <th>6742</th>\n",
       "      <td>6751</td>\n",
       "      <td>City</td>\n",
       "      <td>NaN</td>\n",
       "      <td>No Cars Available</td>\n",
       "      <td>15-07-2016 23:52:06</td>\n",
       "      <td>NaN</td>\n",
       "    </tr>\n",
       "    <tr>\n",
       "      <th>6743</th>\n",
       "      <td>6754</td>\n",
       "      <td>City</td>\n",
       "      <td>NaN</td>\n",
       "      <td>No Cars Available</td>\n",
       "      <td>15-07-2016 23:54:39</td>\n",
       "      <td>NaN</td>\n",
       "    </tr>\n",
       "    <tr>\n",
       "      <th>6744</th>\n",
       "      <td>6753</td>\n",
       "      <td>Airport</td>\n",
       "      <td>NaN</td>\n",
       "      <td>No Cars Available</td>\n",
       "      <td>15-07-2016 23:55:03</td>\n",
       "      <td>NaN</td>\n",
       "    </tr>\n",
       "  </tbody>\n",
       "</table>\n",
       "<p>6745 rows × 6 columns</p>\n",
       "</div>"
      ],
      "text/plain": [
       "      Request id Pickup point  Driver id             Status  \\\n",
       "0            619      Airport        1.0     Trip Completed   \n",
       "1            867      Airport        1.0     Trip Completed   \n",
       "2           1807         City        1.0     Trip Completed   \n",
       "3           2532      Airport        1.0     Trip Completed   \n",
       "4           3112         City        1.0     Trip Completed   \n",
       "...          ...          ...        ...                ...   \n",
       "6740        6745         City        NaN  No Cars Available   \n",
       "6741        6752      Airport        NaN  No Cars Available   \n",
       "6742        6751         City        NaN  No Cars Available   \n",
       "6743        6754         City        NaN  No Cars Available   \n",
       "6744        6753      Airport        NaN  No Cars Available   \n",
       "\n",
       "        Request timestamp       Drop timestamp  \n",
       "0         11/7/2016 11:51      11/7/2016 13:00  \n",
       "1         11/7/2016 17:57      11/7/2016 18:47  \n",
       "2          12/7/2016 9:17       12/7/2016 9:58  \n",
       "3         12/7/2016 21:08      12/7/2016 22:03  \n",
       "4     13-07-2016 08:33:16  13-07-2016 09:25:47  \n",
       "...                   ...                  ...  \n",
       "6740  15-07-2016 23:49:03                  NaN  \n",
       "6741  15-07-2016 23:50:05                  NaN  \n",
       "6742  15-07-2016 23:52:06                  NaN  \n",
       "6743  15-07-2016 23:54:39                  NaN  \n",
       "6744  15-07-2016 23:55:03                  NaN  \n",
       "\n",
       "[6745 rows x 6 columns]"
      ]
     },
     "execution_count": 3,
     "metadata": {},
     "output_type": "execute_result"
    }
   ],
   "source": [
    "df"
   ]
  },
  {
   "cell_type": "code",
   "execution_count": 4,
   "id": "d206e115",
   "metadata": {},
   "outputs": [
    {
     "data": {
      "text/plain": [
       "Request id              0\n",
       "Pickup point            0\n",
       "Driver id            2650\n",
       "Status                  0\n",
       "Request timestamp       0\n",
       "Drop timestamp       3914\n",
       "dtype: int64"
      ]
     },
     "execution_count": 4,
     "metadata": {},
     "output_type": "execute_result"
    }
   ],
   "source": [
    "df.isna().sum()"
   ]
  },
  {
   "cell_type": "code",
   "execution_count": 5,
   "id": "3c768ca4",
   "metadata": {},
   "outputs": [
    {
     "data": {
      "text/plain": [
       "0"
      ]
     },
     "execution_count": 5,
     "metadata": {},
     "output_type": "execute_result"
    }
   ],
   "source": [
    "df.duplicated().sum()"
   ]
  },
  {
   "cell_type": "code",
   "execution_count": 6,
   "id": "aa4a98a0",
   "metadata": {},
   "outputs": [
    {
     "data": {
      "text/html": [
       "<div>\n",
       "<style scoped>\n",
       "    .dataframe tbody tr th:only-of-type {\n",
       "        vertical-align: middle;\n",
       "    }\n",
       "\n",
       "    .dataframe tbody tr th {\n",
       "        vertical-align: top;\n",
       "    }\n",
       "\n",
       "    .dataframe thead th {\n",
       "        text-align: right;\n",
       "    }\n",
       "</style>\n",
       "<table border=\"1\" class=\"dataframe\">\n",
       "  <thead>\n",
       "    <tr style=\"text-align: right;\">\n",
       "      <th></th>\n",
       "      <th>Request id</th>\n",
       "      <th>Driver id</th>\n",
       "    </tr>\n",
       "  </thead>\n",
       "  <tbody>\n",
       "    <tr>\n",
       "      <th>count</th>\n",
       "      <td>6745.000000</td>\n",
       "      <td>4095.000000</td>\n",
       "    </tr>\n",
       "    <tr>\n",
       "      <th>mean</th>\n",
       "      <td>3384.644922</td>\n",
       "      <td>149.501343</td>\n",
       "    </tr>\n",
       "    <tr>\n",
       "      <th>std</th>\n",
       "      <td>1955.099667</td>\n",
       "      <td>86.051994</td>\n",
       "    </tr>\n",
       "    <tr>\n",
       "      <th>min</th>\n",
       "      <td>1.000000</td>\n",
       "      <td>1.000000</td>\n",
       "    </tr>\n",
       "    <tr>\n",
       "      <th>25%</th>\n",
       "      <td>1691.000000</td>\n",
       "      <td>75.000000</td>\n",
       "    </tr>\n",
       "    <tr>\n",
       "      <th>50%</th>\n",
       "      <td>3387.000000</td>\n",
       "      <td>149.000000</td>\n",
       "    </tr>\n",
       "    <tr>\n",
       "      <th>75%</th>\n",
       "      <td>5080.000000</td>\n",
       "      <td>224.000000</td>\n",
       "    </tr>\n",
       "    <tr>\n",
       "      <th>max</th>\n",
       "      <td>6766.000000</td>\n",
       "      <td>300.000000</td>\n",
       "    </tr>\n",
       "  </tbody>\n",
       "</table>\n",
       "</div>"
      ],
      "text/plain": [
       "        Request id    Driver id\n",
       "count  6745.000000  4095.000000\n",
       "mean   3384.644922   149.501343\n",
       "std    1955.099667    86.051994\n",
       "min       1.000000     1.000000\n",
       "25%    1691.000000    75.000000\n",
       "50%    3387.000000   149.000000\n",
       "75%    5080.000000   224.000000\n",
       "max    6766.000000   300.000000"
      ]
     },
     "execution_count": 6,
     "metadata": {},
     "output_type": "execute_result"
    }
   ],
   "source": [
    "df.describe()"
   ]
  },
  {
   "cell_type": "markdown",
   "id": "c660b53f",
   "metadata": {},
   "source": [
    "# Data Cleaning"
   ]
  },
  {
   "cell_type": "code",
   "execution_count": 7,
   "id": "ec22ab52",
   "metadata": {},
   "outputs": [
    {
     "data": {
      "image/png": "[encoded data removed]",
      "text/plain": [
       "<Figure size 1000x600 with 2 Axes>"
      ]
     },
     "metadata": {},
     "output_type": "display_data"
    }
   ],
   "source": [
    "plt.figure(figsize=(10,6))\n",
    "sns.heatmap(df.isnull(), yticklabels=False, cbar=True, cmap='viridis')\n",
    "plt.title('Missing Values Heatmap')\n",
    "plt.show()"
   ]
  },
  {
   "cell_type": "code",
   "execution_count": 8,
   "id": "1c786907",
   "metadata": {},
   "outputs": [
    {
     "name": "stdout",
     "output_type": "stream",
     "text": [
      "------valuecounts----Pickup point\n",
      "Pickup point\n",
      "City       3507\n",
      "Airport    3238\n",
      "Name: count, dtype: int64\n",
      "------valuecounts----Status\n",
      "Status\n",
      "Trip Completed       2831\n",
      "No Cars Available    2650\n",
      "Cancelled            1264\n",
      "Name: count, dtype: int64\n",
      "------valuecounts----Request timestamp\n",
      "Request timestamp\n",
      "11/7/2016 19:02        6\n",
      "11/7/2016 17:57        6\n",
      "11/7/2016 8:37         6\n",
      "11/7/2016 9:40         6\n",
      "12/7/2016 21:42        5\n",
      "                      ..\n",
      "15-07-2016 18:08:33    1\n",
      "15-07-2016 04:50:54    1\n",
      "14-07-2016 18:42:23    1\n",
      "13-07-2016 19:26:50    1\n",
      "15-07-2016 23:55:03    1\n",
      "Name: count, Length: 5618, dtype: int64\n",
      "------valuecounts----Drop timestamp\n",
      "Drop timestamp\n",
      "11/7/2016 13:00        4\n",
      "12/7/2016 21:53        4\n",
      "12/7/2016 21:04        4\n",
      "12/7/2016 6:22         4\n",
      "11/7/2016 18:39        3\n",
      "                      ..\n",
      "12/7/2016 5:40         1\n",
      "12/7/2016 22:42        1\n",
      "13-07-2016 13:09:40    1\n",
      "13-07-2016 23:22:35    1\n",
      "15-07-2016 09:56:07    1\n",
      "Name: count, Length: 2598, dtype: int64\n"
     ]
    }
   ],
   "source": [
    "for i  in df.select_dtypes(include=\"O\").columns:\n",
    "    print(f\"------valuecounts----{i}\")\n",
    "    print(df[i].value_counts())"
   ]
  },
  {
   "cell_type": "code",
   "execution_count": 9,
   "id": "33b81243",
   "metadata": {},
   "outputs": [
    {
     "data": {
      "text/plain": [
       "0       1.0\n",
       "1       1.0\n",
       "2       1.0\n",
       "3       1.0\n",
       "4       1.0\n",
       "       ... \n",
       "6740    NaN\n",
       "6741    NaN\n",
       "6742    NaN\n",
       "6743    NaN\n",
       "6744    NaN\n",
       "Name: Driver id, Length: 6745, dtype: float64"
      ]
     },
     "execution_count": 9,
     "metadata": {},
     "output_type": "execute_result"
    }
   ],
   "source": [
    "df[\"Driver id\"]"
   ]
  },
  {
   "cell_type": "code",
   "execution_count": 10,
   "id": "ea9228c7",
   "metadata": {},
   "outputs": [],
   "source": [
    "df[\"Driver id\"]=df[\"Driver id\"].ffill()"
   ]
  },
  {
   "cell_type": "code",
   "execution_count": 11,
   "id": "30ba50da",
   "metadata": {},
   "outputs": [],
   "source": [
    "df[\"Drop timestamp\"]=df[\"Drop timestamp\"].ffill()"
   ]
  },
  {
   "cell_type": "code",
   "execution_count": 12,
   "id": "10266cee",
   "metadata": {
    "scrolled": false
   },
   "outputs": [
    {
     "data": {
      "text/plain": [
       "0           11/7/2016 11:51\n",
       "1           11/7/2016 17:57\n",
       "2            12/7/2016 9:17\n",
       "3           12/7/2016 21:08\n",
       "4       13-07-2016 08:33:16\n",
       "               ...         \n",
       "6740    15-07-2016 23:49:03\n",
       "6741    15-07-2016 23:50:05\n",
       "6742    15-07-2016 23:52:06\n",
       "6743    15-07-2016 23:54:39\n",
       "6744    15-07-2016 23:55:03\n",
       "Name: Request timestamp, Length: 6745, dtype: object"
      ]
     },
     "execution_count": 12,
     "metadata": {},
     "output_type": "execute_result"
    }
   ],
   "source": [
    "df[\"Request timestamp\"]"
   ]
  },
  {
   "cell_type": "code",
   "execution_count": 21,
   "id": "01a115f5",
   "metadata": {},
   "outputs": [],
   "source": [
    "df['Request timestamp']= df['Request timestamp'].astype(str).str.replace(\"/\",'-')"
   ]
  },
  {
   "cell_type": "code",
   "execution_count": 22,
   "id": "548229f8",
   "metadata": {},
   "outputs": [],
   "source": [
    "df['Drop timestamp']= df['Drop timestamp'].astype(str).str.replace(\"/\",'-')"
   ]
  },
  {
   "cell_type": "code",
   "execution_count": 23,
   "id": "201ef291",
   "metadata": {},
   "outputs": [
    {
     "data": {
      "text/html": [
       "<div>\n",
       "<style scoped>\n",
       "    .dataframe tbody tr th:only-of-type {\n",
       "        vertical-align: middle;\n",
       "    }\n",
       "\n",
       "    .dataframe tbody tr th {\n",
       "        vertical-align: top;\n",
       "    }\n",
       "\n",
       "    .dataframe thead th {\n",
       "        text-align: right;\n",
       "    }\n",
       "</style>\n",
       "<table border=\"1\" class=\"dataframe\">\n",
       "  <thead>\n",
       "    <tr style=\"text-align: right;\">\n",
       "      <th></th>\n",
       "      <th>Request timestamp</th>\n",
       "    </tr>\n",
       "  </thead>\n",
       "  <tbody>\n",
       "    <tr>\n",
       "      <th>0</th>\n",
       "      <td>11-7-2016 11:51</td>\n",
       "    </tr>\n",
       "    <tr>\n",
       "      <th>1</th>\n",
       "      <td>11-7-2016 17:57</td>\n",
       "    </tr>\n",
       "    <tr>\n",
       "      <th>2</th>\n",
       "      <td>12-7-2016 9:17</td>\n",
       "    </tr>\n",
       "    <tr>\n",
       "      <th>3</th>\n",
       "      <td>12-7-2016 21:08</td>\n",
       "    </tr>\n",
       "    <tr>\n",
       "      <th>4</th>\n",
       "      <td>13-07-2016 08:33:16</td>\n",
       "    </tr>\n",
       "    <tr>\n",
       "      <th>...</th>\n",
       "      <td>...</td>\n",
       "    </tr>\n",
       "    <tr>\n",
       "      <th>6740</th>\n",
       "      <td>15-07-2016 23:49:03</td>\n",
       "    </tr>\n",
       "    <tr>\n",
       "      <th>6741</th>\n",
       "      <td>15-07-2016 23:50:05</td>\n",
       "    </tr>\n",
       "    <tr>\n",
       "      <th>6742</th>\n",
       "      <td>15-07-2016 23:52:06</td>\n",
       "    </tr>\n",
       "    <tr>\n",
       "      <th>6743</th>\n",
       "      <td>15-07-2016 23:54:39</td>\n",
       "    </tr>\n",
       "    <tr>\n",
       "      <th>6744</th>\n",
       "      <td>15-07-2016 23:55:03</td>\n",
       "    </tr>\n",
       "  </tbody>\n",
       "</table>\n",
       "<p>6745 rows × 1 columns</p>\n",
       "</div>"
      ],
      "text/plain": [
       "        Request timestamp\n",
       "0         11-7-2016 11:51\n",
       "1         11-7-2016 17:57\n",
       "2          12-7-2016 9:17\n",
       "3         12-7-2016 21:08\n",
       "4     13-07-2016 08:33:16\n",
       "...                   ...\n",
       "6740  15-07-2016 23:49:03\n",
       "6741  15-07-2016 23:50:05\n",
       "6742  15-07-2016 23:52:06\n",
       "6743  15-07-2016 23:54:39\n",
       "6744  15-07-2016 23:55:03\n",
       "\n",
       "[6745 rows x 1 columns]"
      ]
     },
     "execution_count": 23,
     "metadata": {},
     "output_type": "execute_result"
    }
   ],
   "source": [
    "df[['Request timestamp']]"
   ]
  },
  {
   "cell_type": "code",
   "execution_count": 24,
   "id": "cb3e8cc9",
   "metadata": {},
   "outputs": [],
   "source": [
    "from datetime import datetime\n",
    "from dateutil import parser"
   ]
  },
  {
   "cell_type": "code",
   "execution_count": 25,
   "id": "b309a8b6",
   "metadata": {},
   "outputs": [],
   "source": [
    "df['Request timestamp'] = df['Request timestamp'].apply(lambda x: parser.parse(x))\n",
    "df['Request timestamp']= pd.to_datetime(df['Request timestamp'],format='%d-%m-%Y %H:%M:%S')"
   ]
  },
  {
   "cell_type": "code",
   "execution_count": 26,
   "id": "a286bb5e",
   "metadata": {},
   "outputs": [],
   "source": [
    "df['Pickup_Date']= df['Request timestamp'].dt.day\n",
    "df['Pickup_Month']= df['Request timestamp'].dt.month\n",
    "df['Pickup_Hour']= df['Request timestamp'].dt.hour\n",
    "df['Pickup_Minutes']= df['Request timestamp'].dt.minute\n",
    "\n"
   ]
  },
  {
   "cell_type": "code",
   "execution_count": 27,
   "id": "a59aee32",
   "metadata": {},
   "outputs": [],
   "source": [
    "df['Drop timestamp']= df['Drop timestamp'].apply(lambda x: parser.parse(x))\n",
    "df['Drop timestamp']= pd.to_datetime(df['Drop timestamp'],format='%d-%m-%Y %H:%M:%S')"
   ]
  },
  {
   "cell_type": "code",
   "execution_count": 28,
   "id": "c97fe200",
   "metadata": {},
   "outputs": [],
   "source": [
    "df['Drop_Date']= df['Drop timestamp'].dt.day\n",
    "df['Drop_Month']= df['Drop timestamp'].dt.month\n",
    "df['Drop_Hour']= df['Drop timestamp'].dt.hour\n",
    "df['Drop_Minutes']= df['Drop timestamp'].dt.minute"
   ]
  },
  {
   "cell_type": "code",
   "execution_count": 29,
   "id": "6507174a",
   "metadata": {},
   "outputs": [],
   "source": [
    "df.drop(columns= ['Request timestamp','Drop timestamp','Drop_Date','Drop_Month'],axis=1,inplace=True)\n",
    "df.rename(columns={\"Pickup_Date\":'Date',\"Pickup_Month\":\"Month\"},inplace=True)"
   ]
  },
  {
   "cell_type": "code",
   "execution_count": 30,
   "id": "8aebf2ff",
   "metadata": {},
   "outputs": [
    {
     "data": {
      "text/html": [
       "<div>\n",
       "<style scoped>\n",
       "    .dataframe tbody tr th:only-of-type {\n",
       "        vertical-align: middle;\n",
       "    }\n",
       "\n",
       "    .dataframe tbody tr th {\n",
       "        vertical-align: top;\n",
       "    }\n",
       "\n",
       "    .dataframe thead th {\n",
       "        text-align: right;\n",
       "    }\n",
       "</style>\n",
       "<table border=\"1\" class=\"dataframe\">\n",
       "  <thead>\n",
       "    <tr style=\"text-align: right;\">\n",
       "      <th></th>\n",
       "      <th>Request id</th>\n",
       "      <th>Pickup point</th>\n",
       "      <th>Driver id</th>\n",
       "      <th>Status</th>\n",
       "      <th>Request_date</th>\n",
       "      <th>Request_time</th>\n",
       "      <th>Date</th>\n",
       "      <th>Month</th>\n",
       "      <th>Pickup_Hour</th>\n",
       "      <th>Pickup_Minutes</th>\n",
       "      <th>Drop_Hour</th>\n",
       "      <th>Drop_Minutes</th>\n",
       "    </tr>\n",
       "  </thead>\n",
       "  <tbody>\n",
       "    <tr>\n",
       "      <th>0</th>\n",
       "      <td>619</td>\n",
       "      <td>Airport</td>\n",
       "      <td>1.0</td>\n",
       "      <td>Trip Completed</td>\n",
       "      <td>11/7/2016</td>\n",
       "      <td>11:51</td>\n",
       "      <td>7</td>\n",
       "      <td>11</td>\n",
       "      <td>11</td>\n",
       "      <td>51</td>\n",
       "      <td>13</td>\n",
       "      <td>0</td>\n",
       "    </tr>\n",
       "    <tr>\n",
       "      <th>1</th>\n",
       "      <td>867</td>\n",
       "      <td>Airport</td>\n",
       "      <td>1.0</td>\n",
       "      <td>Trip Completed</td>\n",
       "      <td>11/7/2016</td>\n",
       "      <td>17:57</td>\n",
       "      <td>7</td>\n",
       "      <td>11</td>\n",
       "      <td>17</td>\n",
       "      <td>57</td>\n",
       "      <td>18</td>\n",
       "      <td>47</td>\n",
       "    </tr>\n",
       "    <tr>\n",
       "      <th>2</th>\n",
       "      <td>1807</td>\n",
       "      <td>City</td>\n",
       "      <td>1.0</td>\n",
       "      <td>Trip Completed</td>\n",
       "      <td>12/7/2016</td>\n",
       "      <td>9:17</td>\n",
       "      <td>7</td>\n",
       "      <td>12</td>\n",
       "      <td>9</td>\n",
       "      <td>17</td>\n",
       "      <td>9</td>\n",
       "      <td>58</td>\n",
       "    </tr>\n",
       "    <tr>\n",
       "      <th>3</th>\n",
       "      <td>2532</td>\n",
       "      <td>Airport</td>\n",
       "      <td>1.0</td>\n",
       "      <td>Trip Completed</td>\n",
       "      <td>12/7/2016</td>\n",
       "      <td>21:08</td>\n",
       "      <td>7</td>\n",
       "      <td>12</td>\n",
       "      <td>21</td>\n",
       "      <td>8</td>\n",
       "      <td>22</td>\n",
       "      <td>3</td>\n",
       "    </tr>\n",
       "    <tr>\n",
       "      <th>4</th>\n",
       "      <td>3112</td>\n",
       "      <td>City</td>\n",
       "      <td>1.0</td>\n",
       "      <td>Trip Completed</td>\n",
       "      <td>13/07/2016</td>\n",
       "      <td>08:33:16</td>\n",
       "      <td>13</td>\n",
       "      <td>7</td>\n",
       "      <td>8</td>\n",
       "      <td>33</td>\n",
       "      <td>9</td>\n",
       "      <td>25</td>\n",
       "    </tr>\n",
       "    <tr>\n",
       "      <th>...</th>\n",
       "      <td>...</td>\n",
       "      <td>...</td>\n",
       "      <td>...</td>\n",
       "      <td>...</td>\n",
       "      <td>...</td>\n",
       "      <td>...</td>\n",
       "      <td>...</td>\n",
       "      <td>...</td>\n",
       "      <td>...</td>\n",
       "      <td>...</td>\n",
       "      <td>...</td>\n",
       "      <td>...</td>\n",
       "    </tr>\n",
       "    <tr>\n",
       "      <th>6740</th>\n",
       "      <td>6745</td>\n",
       "      <td>City</td>\n",
       "      <td>300.0</td>\n",
       "      <td>No Cars Available</td>\n",
       "      <td>15/07/2016</td>\n",
       "      <td>23:49:03</td>\n",
       "      <td>15</td>\n",
       "      <td>7</td>\n",
       "      <td>23</td>\n",
       "      <td>49</td>\n",
       "      <td>9</td>\n",
       "      <td>56</td>\n",
       "    </tr>\n",
       "    <tr>\n",
       "      <th>6741</th>\n",
       "      <td>6752</td>\n",
       "      <td>Airport</td>\n",
       "      <td>300.0</td>\n",
       "      <td>No Cars Available</td>\n",
       "      <td>15/07/2016</td>\n",
       "      <td>23:50:05</td>\n",
       "      <td>15</td>\n",
       "      <td>7</td>\n",
       "      <td>23</td>\n",
       "      <td>50</td>\n",
       "      <td>9</td>\n",
       "      <td>56</td>\n",
       "    </tr>\n",
       "    <tr>\n",
       "      <th>6742</th>\n",
       "      <td>6751</td>\n",
       "      <td>City</td>\n",
       "      <td>300.0</td>\n",
       "      <td>No Cars Available</td>\n",
       "      <td>15/07/2016</td>\n",
       "      <td>23:52:06</td>\n",
       "      <td>15</td>\n",
       "      <td>7</td>\n",
       "      <td>23</td>\n",
       "      <td>52</td>\n",
       "      <td>9</td>\n",
       "      <td>56</td>\n",
       "    </tr>\n",
       "    <tr>\n",
       "      <th>6743</th>\n",
       "      <td>6754</td>\n",
       "      <td>City</td>\n",
       "      <td>300.0</td>\n",
       "      <td>No Cars Available</td>\n",
       "      <td>15/07/2016</td>\n",
       "      <td>23:54:39</td>\n",
       "      <td>15</td>\n",
       "      <td>7</td>\n",
       "      <td>23</td>\n",
       "      <td>54</td>\n",
       "      <td>9</td>\n",
       "      <td>56</td>\n",
       "    </tr>\n",
       "    <tr>\n",
       "      <th>6744</th>\n",
       "      <td>6753</td>\n",
       "      <td>Airport</td>\n",
       "      <td>300.0</td>\n",
       "      <td>No Cars Available</td>\n",
       "      <td>15/07/2016</td>\n",
       "      <td>23:55:03</td>\n",
       "      <td>15</td>\n",
       "      <td>7</td>\n",
       "      <td>23</td>\n",
       "      <td>55</td>\n",
       "      <td>9</td>\n",
       "      <td>56</td>\n",
       "    </tr>\n",
       "  </tbody>\n",
       "</table>\n",
       "<p>6745 rows × 12 columns</p>\n",
       "</div>"
      ],
      "text/plain": [
       "      Request id Pickup point  Driver id             Status Request_date  \\\n",
       "0            619      Airport        1.0     Trip Completed    11/7/2016   \n",
       "1            867      Airport        1.0     Trip Completed    11/7/2016   \n",
       "2           1807         City        1.0     Trip Completed    12/7/2016   \n",
       "3           2532      Airport        1.0     Trip Completed    12/7/2016   \n",
       "4           3112         City        1.0     Trip Completed   13/07/2016   \n",
       "...          ...          ...        ...                ...          ...   \n",
       "6740        6745         City      300.0  No Cars Available   15/07/2016   \n",
       "6741        6752      Airport      300.0  No Cars Available   15/07/2016   \n",
       "6742        6751         City      300.0  No Cars Available   15/07/2016   \n",
       "6743        6754         City      300.0  No Cars Available   15/07/2016   \n",
       "6744        6753      Airport      300.0  No Cars Available   15/07/2016   \n",
       "\n",
       "     Request_time  Date  Month  Pickup_Hour  Pickup_Minutes  Drop_Hour  \\\n",
       "0           11:51     7     11           11              51         13   \n",
       "1           17:57     7     11           17              57         18   \n",
       "2            9:17     7     12            9              17          9   \n",
       "3           21:08     7     12           21               8         22   \n",
       "4        08:33:16    13      7            8              33          9   \n",
       "...           ...   ...    ...          ...             ...        ...   \n",
       "6740     23:49:03    15      7           23              49          9   \n",
       "6741     23:50:05    15      7           23              50          9   \n",
       "6742     23:52:06    15      7           23              52          9   \n",
       "6743     23:54:39    15      7           23              54          9   \n",
       "6744     23:55:03    15      7           23              55          9   \n",
       "\n",
       "      Drop_Minutes  \n",
       "0                0  \n",
       "1               47  \n",
       "2               58  \n",
       "3                3  \n",
       "4               25  \n",
       "...            ...  \n",
       "6740            56  \n",
       "6741            56  \n",
       "6742            56  \n",
       "6743            56  \n",
       "6744            56  \n",
       "\n",
       "[6745 rows x 12 columns]"
      ]
     },
     "execution_count": 30,
     "metadata": {},
     "output_type": "execute_result"
    }
   ],
   "source": [
    "df"
   ]
  },
  {
   "cell_type": "markdown",
   "id": "3ec20f51",
   "metadata": {},
   "source": [
    "# Visualization"
   ]
  },
  {
   "cell_type": "code",
   "execution_count": 32,
   "id": "56ad4f6f",
   "metadata": {},
   "outputs": [
    {
     "data": {
      "image/png": "[encoded data removed]",
      "text/plain": [
       "<Figure size 500x400 with 1 Axes>"
      ]
     },
     "metadata": {},
     "output_type": "display_data"
    }
   ],
   "source": [
    "plt.figure(figsize=(5,4))\n",
    "sns.set_style('ticks')\n",
    "ax=sns.countplot(x='Pickup point',data=df,palette='nipy_spectral',color='black')\n",
    "\n",
    "plt.title('Distribution by pickup_points',color='black',fontsize=15,fontweight='bold',fontstyle='italic')\n",
    "plt.xlabel('pickup point',color='black',fontweight='bold')\n",
    "plt.ylabel('Count',color='black',fontweight='bold')\n",
    "#sns.set_context(\"paper\")\n",
    "\n",
    "for bars in ax.containers:\n",
    "    ax.bar_label(bars)\n",
    "plt.show()"
   ]
  },
  {
   "cell_type": "code",
   "execution_count": 34,
   "id": "d73a695f",
   "metadata": {},
   "outputs": [
    {
     "data": {
      "image/png": "[encoded data removed]",
      "text/plain": [
       "<Figure size 800x300 with 1 Axes>"
      ]
     },
     "metadata": {},
     "output_type": "display_data"
    }
   ],
   "source": [
    "plt.figure(figsize=(8,3))\n",
    "sns.countplot(x='Status', data=df,palette='nipy_spectral')\n",
    "plt.title('Distribution of Trip Statuses',fontsize=17,fontweight='bold',fontstyle='italic',color='black')\n",
    "plt.xlabel('Status',fontweight='bold',fontsize=14)\n",
    "plt.ylabel('Number of Trips',fontweight='bold',fontsize=14)\n",
    "plt.show()"
   ]
  },
  {
   "cell_type": "code",
   "execution_count": 36,
   "id": "1ac67534",
   "metadata": {
    "scrolled": true
   },
   "outputs": [
    {
     "data": {
      "text/plain": [
       "Pickup point\n",
       "City       3507\n",
       "Airport    3238\n",
       "Name: count, dtype: int64"
      ]
     },
     "execution_count": 36,
     "metadata": {},
     "output_type": "execute_result"
    }
   ],
   "source": [
    "df[\"Pickup point\"].value_counts()\n"
   ]
  },
  {
   "cell_type": "code",
   "execution_count": 37,
   "id": "722ab3c7",
   "metadata": {},
   "outputs": [
    {
     "data": {
      "text/plain": [
       "Month\n",
       "7     4071\n",
       "11    1367\n",
       "12    1307\n",
       "Name: count, dtype: int64"
      ]
     },
     "execution_count": 37,
     "metadata": {},
     "output_type": "execute_result"
    }
   ],
   "source": [
    "df[\"Month\"].value_counts()"
   ]
  },
  {
   "cell_type": "code",
   "execution_count": 38,
   "id": "d62c6f53",
   "metadata": {},
   "outputs": [
    {
     "data": {
      "text/html": [
       "<div>\n",
       "<style scoped>\n",
       "    .dataframe tbody tr th:only-of-type {\n",
       "        vertical-align: middle;\n",
       "    }\n",
       "\n",
       "    .dataframe tbody tr th {\n",
       "        vertical-align: top;\n",
       "    }\n",
       "\n",
       "    .dataframe thead th {\n",
       "        text-align: right;\n",
       "    }\n",
       "</style>\n",
       "<table border=\"1\" class=\"dataframe\">\n",
       "  <thead>\n",
       "    <tr style=\"text-align: right;\">\n",
       "      <th></th>\n",
       "      <th>Request id</th>\n",
       "      <th>Driver id</th>\n",
       "      <th>Date</th>\n",
       "      <th>Month</th>\n",
       "      <th>Pickup_Hour</th>\n",
       "      <th>Pickup_Minutes</th>\n",
       "      <th>Drop_Hour</th>\n",
       "      <th>Drop_Minutes</th>\n",
       "    </tr>\n",
       "    <tr>\n",
       "      <th>Pickup point</th>\n",
       "      <th></th>\n",
       "      <th></th>\n",
       "      <th></th>\n",
       "      <th></th>\n",
       "      <th></th>\n",
       "      <th></th>\n",
       "      <th></th>\n",
       "      <th></th>\n",
       "    </tr>\n",
       "  </thead>\n",
       "  <tbody>\n",
       "    <tr>\n",
       "      <th>Airport</th>\n",
       "      <td>3455.450896</td>\n",
       "      <td>227.555899</td>\n",
       "      <td>11.081841</td>\n",
       "      <td>8.872761</td>\n",
       "      <td>15.500000</td>\n",
       "      <td>29.490426</td>\n",
       "      <td>10.567943</td>\n",
       "      <td>45.042928</td>\n",
       "    </tr>\n",
       "    <tr>\n",
       "      <th>City</th>\n",
       "      <td>3319.270031</td>\n",
       "      <td>191.155403</td>\n",
       "      <td>11.369547</td>\n",
       "      <td>8.693470</td>\n",
       "      <td>10.608497</td>\n",
       "      <td>29.651839</td>\n",
       "      <td>10.683490</td>\n",
       "      <td>44.857143</td>\n",
       "    </tr>\n",
       "  </tbody>\n",
       "</table>\n",
       "</div>"
      ],
      "text/plain": [
       "               Request id   Driver id       Date     Month  Pickup_Hour  \\\n",
       "Pickup point                                                              \n",
       "Airport       3455.450896  227.555899  11.081841  8.872761    15.500000   \n",
       "City          3319.270031  191.155403  11.369547  8.693470    10.608497   \n",
       "\n",
       "              Pickup_Minutes  Drop_Hour  Drop_Minutes  \n",
       "Pickup point                                           \n",
       "Airport            29.490426  10.567943     45.042928  \n",
       "City               29.651839  10.683490     44.857143  "
      ]
     },
     "execution_count": 38,
     "metadata": {},
     "output_type": "execute_result"
    }
   ],
   "source": [
    "df.groupby([\"Pickup point\"]).mean(numeric_only=True)"
   ]
  },
  {
   "cell_type": "code",
   "execution_count": 39,
   "id": "b2566098",
   "metadata": {},
   "outputs": [
    {
     "data": {
      "image/png": "[encoded data removed]",
      "text/plain": [
       "<Figure size 1000x400 with 1 Axes>"
      ]
     },
     "metadata": {},
     "output_type": "display_data"
    }
   ],
   "source": [
    "plt.figure(figsize=(10, 4))\n",
    "sns.countplot(x='Pickup point', hue='Status', data=df,palette='nipy_spectral')\n",
    "plt.title('Demands at Different Pickup Points',fontweight='bold',fontsize=16,color='black',fontstyle='italic')\n",
    "plt.xlabel('Pickup Point',fontweight='bold')\n",
    "plt.ylabel('Number of Trips',fontweight='bold')\n",
    "plt.show()"
   ]
  },
  {
   "cell_type": "code",
   "execution_count": 40,
   "id": "a8e95865",
   "metadata": {},
   "outputs": [],
   "source": [
    "def categorize_hour(hour):\n",
    "    if hour >= 5 and hour <= 11:\n",
    "        return \"Morning\"\n",
    "    elif hour >= 12 and hour <= 16:\n",
    "        return \"Afternoon\"\n",
    "    elif hour >= 17 and hour <= 23:\n",
    "        return \"Evening\"\n",
    "    else:\n",
    "        return \"Night\""
   ]
  },
  {
   "cell_type": "code",
   "execution_count": 41,
   "id": "e4c41f8c",
   "metadata": {},
   "outputs": [
    {
     "data": {
      "text/html": [
       "<div>\n",
       "<style scoped>\n",
       "    .dataframe tbody tr th:only-of-type {\n",
       "        vertical-align: middle;\n",
       "    }\n",
       "\n",
       "    .dataframe tbody tr th {\n",
       "        vertical-align: top;\n",
       "    }\n",
       "\n",
       "    .dataframe thead th {\n",
       "        text-align: right;\n",
       "    }\n",
       "</style>\n",
       "<table border=\"1\" class=\"dataframe\">\n",
       "  <thead>\n",
       "    <tr style=\"text-align: right;\">\n",
       "      <th></th>\n",
       "      <th>Request id</th>\n",
       "      <th>Pickup point</th>\n",
       "      <th>Driver id</th>\n",
       "      <th>Status</th>\n",
       "      <th>Request_date</th>\n",
       "      <th>Request_time</th>\n",
       "      <th>Date</th>\n",
       "      <th>Month</th>\n",
       "      <th>Pickup_Hour</th>\n",
       "      <th>Pickup_Minutes</th>\n",
       "      <th>Drop_Hour</th>\n",
       "      <th>Drop_Minutes</th>\n",
       "    </tr>\n",
       "  </thead>\n",
       "  <tbody>\n",
       "    <tr>\n",
       "      <th>0</th>\n",
       "      <td>619</td>\n",
       "      <td>Airport</td>\n",
       "      <td>1.0</td>\n",
       "      <td>Trip Completed</td>\n",
       "      <td>11/7/2016</td>\n",
       "      <td>11:51</td>\n",
       "      <td>7</td>\n",
       "      <td>11</td>\n",
       "      <td>Morning</td>\n",
       "      <td>51</td>\n",
       "      <td>Afternoon</td>\n",
       "      <td>0</td>\n",
       "    </tr>\n",
       "    <tr>\n",
       "      <th>1</th>\n",
       "      <td>867</td>\n",
       "      <td>Airport</td>\n",
       "      <td>1.0</td>\n",
       "      <td>Trip Completed</td>\n",
       "      <td>11/7/2016</td>\n",
       "      <td>17:57</td>\n",
       "      <td>7</td>\n",
       "      <td>11</td>\n",
       "      <td>Evening</td>\n",
       "      <td>57</td>\n",
       "      <td>Evening</td>\n",
       "      <td>47</td>\n",
       "    </tr>\n",
       "    <tr>\n",
       "      <th>2</th>\n",
       "      <td>1807</td>\n",
       "      <td>City</td>\n",
       "      <td>1.0</td>\n",
       "      <td>Trip Completed</td>\n",
       "      <td>12/7/2016</td>\n",
       "      <td>9:17</td>\n",
       "      <td>7</td>\n",
       "      <td>12</td>\n",
       "      <td>Morning</td>\n",
       "      <td>17</td>\n",
       "      <td>Morning</td>\n",
       "      <td>58</td>\n",
       "    </tr>\n",
       "    <tr>\n",
       "      <th>3</th>\n",
       "      <td>2532</td>\n",
       "      <td>Airport</td>\n",
       "      <td>1.0</td>\n",
       "      <td>Trip Completed</td>\n",
       "      <td>12/7/2016</td>\n",
       "      <td>21:08</td>\n",
       "      <td>7</td>\n",
       "      <td>12</td>\n",
       "      <td>Evening</td>\n",
       "      <td>8</td>\n",
       "      <td>Evening</td>\n",
       "      <td>3</td>\n",
       "    </tr>\n",
       "    <tr>\n",
       "      <th>4</th>\n",
       "      <td>3112</td>\n",
       "      <td>City</td>\n",
       "      <td>1.0</td>\n",
       "      <td>Trip Completed</td>\n",
       "      <td>13/07/2016</td>\n",
       "      <td>08:33:16</td>\n",
       "      <td>13</td>\n",
       "      <td>7</td>\n",
       "      <td>Morning</td>\n",
       "      <td>33</td>\n",
       "      <td>Morning</td>\n",
       "      <td>25</td>\n",
       "    </tr>\n",
       "    <tr>\n",
       "      <th>...</th>\n",
       "      <td>...</td>\n",
       "      <td>...</td>\n",
       "      <td>...</td>\n",
       "      <td>...</td>\n",
       "      <td>...</td>\n",
       "      <td>...</td>\n",
       "      <td>...</td>\n",
       "      <td>...</td>\n",
       "      <td>...</td>\n",
       "      <td>...</td>\n",
       "      <td>...</td>\n",
       "      <td>...</td>\n",
       "    </tr>\n",
       "    <tr>\n",
       "      <th>6740</th>\n",
       "      <td>6745</td>\n",
       "      <td>City</td>\n",
       "      <td>300.0</td>\n",
       "      <td>No Cars Available</td>\n",
       "      <td>15/07/2016</td>\n",
       "      <td>23:49:03</td>\n",
       "      <td>15</td>\n",
       "      <td>7</td>\n",
       "      <td>Evening</td>\n",
       "      <td>49</td>\n",
       "      <td>Morning</td>\n",
       "      <td>56</td>\n",
       "    </tr>\n",
       "    <tr>\n",
       "      <th>6741</th>\n",
       "      <td>6752</td>\n",
       "      <td>Airport</td>\n",
       "      <td>300.0</td>\n",
       "      <td>No Cars Available</td>\n",
       "      <td>15/07/2016</td>\n",
       "      <td>23:50:05</td>\n",
       "      <td>15</td>\n",
       "      <td>7</td>\n",
       "      <td>Evening</td>\n",
       "      <td>50</td>\n",
       "      <td>Morning</td>\n",
       "      <td>56</td>\n",
       "    </tr>\n",
       "    <tr>\n",
       "      <th>6742</th>\n",
       "      <td>6751</td>\n",
       "      <td>City</td>\n",
       "      <td>300.0</td>\n",
       "      <td>No Cars Available</td>\n",
       "      <td>15/07/2016</td>\n",
       "      <td>23:52:06</td>\n",
       "      <td>15</td>\n",
       "      <td>7</td>\n",
       "      <td>Evening</td>\n",
       "      <td>52</td>\n",
       "      <td>Morning</td>\n",
       "      <td>56</td>\n",
       "    </tr>\n",
       "    <tr>\n",
       "      <th>6743</th>\n",
       "      <td>6754</td>\n",
       "      <td>City</td>\n",
       "      <td>300.0</td>\n",
       "      <td>No Cars Available</td>\n",
       "      <td>15/07/2016</td>\n",
       "      <td>23:54:39</td>\n",
       "      <td>15</td>\n",
       "      <td>7</td>\n",
       "      <td>Evening</td>\n",
       "      <td>54</td>\n",
       "      <td>Morning</td>\n",
       "      <td>56</td>\n",
       "    </tr>\n",
       "    <tr>\n",
       "      <th>6744</th>\n",
       "      <td>6753</td>\n",
       "      <td>Airport</td>\n",
       "      <td>300.0</td>\n",
       "      <td>No Cars Available</td>\n",
       "      <td>15/07/2016</td>\n",
       "      <td>23:55:03</td>\n",
       "      <td>15</td>\n",
       "      <td>7</td>\n",
       "      <td>Evening</td>\n",
       "      <td>55</td>\n",
       "      <td>Morning</td>\n",
       "      <td>56</td>\n",
       "    </tr>\n",
       "  </tbody>\n",
       "</table>\n",
       "<p>6745 rows × 12 columns</p>\n",
       "</div>"
      ],
      "text/plain": [
       "      Request id Pickup point  Driver id             Status Request_date  \\\n",
       "0            619      Airport        1.0     Trip Completed    11/7/2016   \n",
       "1            867      Airport        1.0     Trip Completed    11/7/2016   \n",
       "2           1807         City        1.0     Trip Completed    12/7/2016   \n",
       "3           2532      Airport        1.0     Trip Completed    12/7/2016   \n",
       "4           3112         City        1.0     Trip Completed   13/07/2016   \n",
       "...          ...          ...        ...                ...          ...   \n",
       "6740        6745         City      300.0  No Cars Available   15/07/2016   \n",
       "6741        6752      Airport      300.0  No Cars Available   15/07/2016   \n",
       "6742        6751         City      300.0  No Cars Available   15/07/2016   \n",
       "6743        6754         City      300.0  No Cars Available   15/07/2016   \n",
       "6744        6753      Airport      300.0  No Cars Available   15/07/2016   \n",
       "\n",
       "     Request_time  Date  Month Pickup_Hour  Pickup_Minutes  Drop_Hour  \\\n",
       "0           11:51     7     11     Morning              51  Afternoon   \n",
       "1           17:57     7     11     Evening              57    Evening   \n",
       "2            9:17     7     12     Morning              17    Morning   \n",
       "3           21:08     7     12     Evening               8    Evening   \n",
       "4        08:33:16    13      7     Morning              33    Morning   \n",
       "...           ...   ...    ...         ...             ...        ...   \n",
       "6740     23:49:03    15      7     Evening              49    Morning   \n",
       "6741     23:50:05    15      7     Evening              50    Morning   \n",
       "6742     23:52:06    15      7     Evening              52    Morning   \n",
       "6743     23:54:39    15      7     Evening              54    Morning   \n",
       "6744     23:55:03    15      7     Evening              55    Morning   \n",
       "\n",
       "      Drop_Minutes  \n",
       "0                0  \n",
       "1               47  \n",
       "2               58  \n",
       "3                3  \n",
       "4               25  \n",
       "...            ...  \n",
       "6740            56  \n",
       "6741            56  \n",
       "6742            56  \n",
       "6743            56  \n",
       "6744            56  \n",
       "\n",
       "[6745 rows x 12 columns]"
      ]
     },
     "execution_count": 41,
     "metadata": {},
     "output_type": "execute_result"
    }
   ],
   "source": [
    "df['Pickup_Hour'] = df['Pickup_Hour'].apply(categorize_hour)\n",
    "df['Drop_Hour'] = df['Drop_Hour'].apply(categorize_hour)\n",
    "df\n",
    "\n"
   ]
  },
  {
   "cell_type": "code",
   "execution_count": 42,
   "id": "e64f27a0",
   "metadata": {},
   "outputs": [],
   "source": [
    "hourly_distribution = df.groupby('Pickup_Hour').size().reset_index(name='Count')"
   ]
  },
  {
   "cell_type": "code",
   "execution_count": 43,
   "id": "98469261",
   "metadata": {},
   "outputs": [
    {
     "data": {
      "image/png": "[encoded data removed]",
      "text/plain": [
       "<Figure size 700x300 with 1 Axes>"
      ]
     },
     "metadata": {},
     "output_type": "display_data"
    }
   ],
   "source": [
    "plt.figure(figsize=(7,3))\n",
    "sns.barplot(x='Pickup_Hour', y='Count', data=hourly_distribution,palette='autumn')\n",
    "plt.title('Hourly Distribution of Trips',fontweight='bold',fontsize=19,color='purple',fontstyle='italic')\n",
    "plt.xlabel('Hour of the Day',fontweight='bold')\n",
    "plt.ylabel('Number of Trips',fontweight='bold')\n",
    "plt.xticks(range(0, 5))\n",
    "plt.show()"
   ]
  },
  {
   "cell_type": "markdown",
   "id": "2830e752",
   "metadata": {},
   "source": [
    " Conclusion\n",
    "\n",
    "   1. Hourly Distribution: The heatmap likely reveals which hours of the day (categorized as Morning, Afternoon, Evening, and Night) have the highest and lowest number of Uber requests at different pickup points (Airport or City).\n",
    "\n",
    "   2. Peak Hours: If the heatmap shows darker colors (indicating higher counts) during specific times at certain pickup points, those are the peak hours. For example, there might be more requests from the Airport in the Morning, while City requests might peak in the Morning.\n",
    "\n"
   ]
  },
  {
   "cell_type": "markdown",
   "id": "a8592d9c",
   "metadata": {},
   "source": [
    " Recommendations:\n",
    "\n",
    "Morning and Evening Peaks: Allocate more drivers to the Airport during Evening to meet the higher demand.\n",
    "\n",
    "City Peak: If the City shows a significant increase in requests during the Morning, ensure adequate driver availability in those areas during those times.\n",
    "\n",
    "Driver Scheduling: Adjust driver schedules to align with peak demand times, ensuring that more drivers are available during periods of high demand.\n"
   ]
  },
  {
   "cell_type": "code",
   "execution_count": null,
   "id": "f55ccd7c",
   "metadata": {},
   "outputs": [],
   "source": []
  }
 ],
 "metadata": {
  "kernelspec": {
   "display_name": "Python 3 (ipykernel)",
   "language": "python",
   "name": "python3"
  },
  "language_info": {
   "codemirror_mode": {
    "name": "ipython",
    "version": 3
   },
   "file_extension": ".py",
   "mimetype": "text/x-python",
   "name": "python",
   "nbconvert_exporter": "python",
   "pygments_lexer": "ipython3",
   "version": "3.11.5"
  }
 },
 "nbformat": 4,
 "nbformat_minor": 5
}
